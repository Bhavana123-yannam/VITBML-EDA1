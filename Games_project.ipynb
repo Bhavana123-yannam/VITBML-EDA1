{
  "nbformat": 4,
  "nbformat_minor": 0,
  "metadata": {
    "colab": {
      "name": "Games project",
      "provenance": [],
      "authorship_tag": "ABX9TyND6vl7BCE+5qkLl4k3EPcZ",
      "include_colab_link": true
    },
    "kernelspec": {
      "name": "python3",
      "display_name": "Python 3"
    }
  },
  "cells": [
    {
      "cell_type": "markdown",
      "metadata": {
        "id": "view-in-github",
        "colab_type": "text"
      },
      "source": [
        "<a href=\"https://colab.research.google.com/github/Bhavana123-yannam/VITBML-EDA1/blob/master/Games_project.ipynb\" target=\"_parent\"><img src=\"https://colab.research.google.com/assets/colab-badge.svg\" alt=\"Open In Colab\"/></a>"
      ]
    },
    {
      "cell_type": "markdown",
      "metadata": {
        "id": "oOyU-gFARNLn",
        "colab_type": "text"
      },
      "source": [
        "1st question:dtype,subcategory"
      ]
    },
    {
      "cell_type": "code",
      "metadata": {
        "id": "h1UvpPqHzG3U",
        "colab_type": "code",
        "colab": {
          "base_uri": "https://localhost:8080/",
          "height": 748
        },
        "outputId": "73ac922b-7bc1-4ea6-ef2e-6c011be8fcb5"
      },
      "source": [
        "import pandas as pd\n",
        "df=pd.read_csv(\"/content/appstore_games.csv\")\n",
        "print(df.info())\n",
        "print(df.dtypes)"
      ],
      "execution_count": 24,
      "outputs": [
        {
          "output_type": "stream",
          "text": [
            "<class 'pandas.core.frame.DataFrame'>\n",
            "RangeIndex: 17007 entries, 0 to 17006\n",
            "Data columns (total 18 columns):\n",
            "URL                             17007 non-null object\n",
            "ID                              17007 non-null int64\n",
            "Name                            17007 non-null object\n",
            "Subtitle                        5261 non-null object\n",
            "Icon URL                        17007 non-null object\n",
            "Average User Rating             7561 non-null float64\n",
            "User Rating Count               7561 non-null float64\n",
            "Price                           16983 non-null float64\n",
            "In-app Purchases                7683 non-null object\n",
            "Description                     17007 non-null object\n",
            "Developer                       17007 non-null object\n",
            "Age Rating                      17007 non-null object\n",
            "Languages                       16947 non-null object\n",
            "Size                            17006 non-null float64\n",
            "Primary Genre                   17007 non-null object\n",
            "Genres                          17007 non-null object\n",
            "Original Release Date           17007 non-null object\n",
            "Current Version Release Date    17007 non-null object\n",
            "dtypes: float64(4), int64(1), object(13)\n",
            "memory usage: 2.3+ MB\n",
            "None\n",
            "URL                              object\n",
            "ID                                int64\n",
            "Name                             object\n",
            "Subtitle                         object\n",
            "Icon URL                         object\n",
            "Average User Rating             float64\n",
            "User Rating Count               float64\n",
            "Price                           float64\n",
            "In-app Purchases                 object\n",
            "Description                      object\n",
            "Developer                        object\n",
            "Age Rating                       object\n",
            "Languages                        object\n",
            "Size                            float64\n",
            "Primary Genre                    object\n",
            "Genres                           object\n",
            "Original Release Date            object\n",
            "Current Version Release Date     object\n",
            "dtype: object\n"
          ],
          "name": "stdout"
        }
      ]
    },
    {
      "cell_type": "code",
      "metadata": {
        "id": "FLiGIL9y47sz",
        "colab_type": "code",
        "colab": {
          "base_uri": "https://localhost:8080/",
          "height": 374
        },
        "outputId": "44d07925-ee2a-4664-ecae-6645870df2f5"
      },
      "source": [
        "print(df.head())\n",
        "print(df.tail())\n",
        "print(df.columns)\n"
      ],
      "execution_count": 12,
      "outputs": [
        {
          "output_type": "stream",
          "text": [
            "                                                 URL  ...  Current Version Release Date\n",
            "0   https://apps.apple.com/us/app/sudoku/id284921427  ...                    30/05/2017\n",
            "1  https://apps.apple.com/us/app/reversi/id284926400  ...                    17/05/2018\n",
            "2  https://apps.apple.com/us/app/morocco/id284946595  ...                     5/09/2017\n",
            "3  https://apps.apple.com/us/app/sudoku-free/id28...  ...                    30/05/2017\n",
            "4  https://apps.apple.com/us/app/senet-deluxe/id2...  ...                    22/07/2018\n",
            "\n",
            "[5 rows x 18 columns]\n",
            "                                                     URL  ...  Current Version Release Date\n",
            "17002  https://apps.apple.com/us/app/stack-puzzle-ris...  ...                    30/07/2019\n",
            "17003  https://apps.apple.com/us/app/eachother/id1474...  ...                     1/08/2019\n",
            "17004  https://apps.apple.com/us/app/rabbit-vs-tortoi...  ...                     3/08/2019\n",
            "17005  https://apps.apple.com/us/app/fatall/id1474963671  ...                     1/08/2019\n",
            "17006  https://apps.apple.com/us/app/the-three-kingdo...  ...                     2/08/2019\n",
            "\n",
            "[5 rows x 18 columns]\n",
            "Index(['URL', 'ID', 'Name', 'Subtitle', 'Icon URL', 'Average User Rating',\n",
            "       'User Rating Count', 'Price', 'In-app Purchases', 'Description',\n",
            "       'Developer', 'Age Rating', 'Languages', 'Size', 'Primary Genre',\n",
            "       'Genres', 'Original Release Date', 'Current Version Release Date'],\n",
            "      dtype='object')\n"
          ],
          "name": "stdout"
        }
      ]
    },
    {
      "cell_type": "markdown",
      "metadata": {
        "id": "uXeAyM6DRJQP",
        "colab_type": "text"
      },
      "source": [
        "4th question:"
      ]
    },
    {
      "cell_type": "code",
      "metadata": {
        "id": "1rLP9kRg7X7Y",
        "colab_type": "code",
        "colab": {
          "base_uri": "https://localhost:8080/",
          "height": 265
        },
        "outputId": "32d8eb2d-c3db-4033-d303-05891779f52c"
      },
      "source": [
        "import matplotlib.pyplot as plt\n",
        "plt.bar(df['Average User Rating'],df['User Rating Count'],color='g')\n",
        "plt.show()"
      ],
      "execution_count": 25,
      "outputs": [
        {
          "output_type": "display_data",
          "data": {
            "image/png": "[encoded data removed]",
            "text/plain": [
              "<Figure size 432x288 with 1 Axes>"
            ]
          },
          "metadata": {
            "tags": []
          }
        }
      ]
    },
    {
      "cell_type": "code",
      "metadata": {
        "id": "_XDN2rUbCUyR",
        "colab_type": "code",
        "colab": {
          "base_uri": "https://localhost:8080/",
          "height": 438
        },
        "outputId": "fee9e8e9-f6ee-4cce-d22f-2c31a9c66c5a"
      },
      "source": [
        "plt.hist(df['Price'])\n"
      ],
      "execution_count": 30,
      "outputs": [
        {
          "output_type": "stream",
          "text": [
            "/usr/local/lib/python3.6/dist-packages/numpy/lib/histograms.py:839: RuntimeWarning: invalid value encountered in greater_equal\n",
            "  keep = (tmp_a >= first_edge)\n",
            "/usr/local/lib/python3.6/dist-packages/numpy/lib/histograms.py:840: RuntimeWarning: invalid value encountered in less_equal\n",
            "  keep &= (tmp_a <= last_edge)\n"
          ],
          "name": "stderr"
        },
        {
          "output_type": "execute_result",
          "data": {
            "text/plain": [
              "(array([1.6936e+04, 1.2000e+01, 2.0000e+00, 1.0000e+00, 0.0000e+00,\n",
              "        1.0000e+00, 0.0000e+00, 1.0000e+00, 0.0000e+00, 3.0000e+01]),\n",
              " array([  0.   ,  17.999,  35.998,  53.997,  71.996,  89.995, 107.994,\n",
              "        125.993, 143.992, 161.991, 179.99 ]),\n",
              " <a list of 10 Patch objects>)"
            ]
          },
          "metadata": {
            "tags": []
          },
          "execution_count": 30
        },
        {
          "output_type": "display_data",
          "data": {
            "image/png": "[encoded data removed]",
            "text/plain": [
              "<Figure size 432x288 with 1 Axes>"
            ]
          },
          "metadata": {
            "tags": []
          }
        }
      ]
    },
    {
      "cell_type": "code",
      "metadata": {
        "id": "VE0YYTJIDy8H",
        "colab_type": "code",
        "colab": {
          "base_uri": "https://localhost:8080/",
          "height": 425
        },
        "outputId": "4c358c14-cca8-44dc-ae29-b6b9d8a841b8"
      },
      "source": [
        "plt.hist(df['Average User Rating'])"
      ],
      "execution_count": 31,
      "outputs": [
        {
          "output_type": "stream",
          "text": [
            "/usr/local/lib/python3.6/dist-packages/numpy/lib/histograms.py:839: RuntimeWarning: invalid value encountered in greater_equal\n",
            "  keep = (tmp_a >= first_edge)\n",
            "/usr/local/lib/python3.6/dist-packages/numpy/lib/histograms.py:840: RuntimeWarning: invalid value encountered in less_equal\n",
            "  keep &= (tmp_a <= last_edge)\n"
          ],
          "name": "stderr"
        },
        {
          "output_type": "execute_result",
          "data": {
            "text/plain": [
              "(array([  14.,   60.,  158.,  317.,    0.,  514.,  925., 1722., 2861.,\n",
              "         990.]),\n",
              " array([1. , 1.4, 1.8, 2.2, 2.6, 3. , 3.4, 3.8, 4.2, 4.6, 5. ]),\n",
              " <a list of 10 Patch objects>)"
            ]
          },
          "metadata": {
            "tags": []
          },
          "execution_count": 31
        },
        {
          "output_type": "display_data",
          "data": {
            "image/png": "[encoded data removed]",
            "text/plain": [
              "<Figure size 432x288 with 1 Axes>"
            ]
          },
          "metadata": {
            "tags": []
          }
        }
      ]
    },
    {
      "cell_type": "code",
      "metadata": {
        "id": "2KTzyeQ1D64z",
        "colab_type": "code",
        "colab": {
          "base_uri": "https://localhost:8080/",
          "height": 293
        },
        "outputId": "bf5678b2-18c9-461f-ff39-3003ae414bde"
      },
      "source": [
        "plt.bar(df['Price'],df['Size'],color='black')"
      ],
      "execution_count": 33,
      "outputs": [
        {
          "output_type": "execute_result",
          "data": {
            "text/plain": [
              "<BarContainer object of 17007 artists>"
            ]
          },
          "metadata": {
            "tags": []
          },
          "execution_count": 33
        },
        {
          "output_type": "display_data",
          "data": {
            "image/png": "[encoded data removed]",
            "text/plain": [
              "<Figure size 432x288 with 1 Axes>"
            ]
          },
          "metadata": {
            "tags": []
          }
        }
      ]
    },
    {
      "cell_type": "markdown",
      "metadata": {
        "id": "LwfQ8enjRlr3",
        "colab_type": "text"
      },
      "source": [
        "7th question: relation between price and size using scatter plot"
      ]
    },
    {
      "cell_type": "code",
      "metadata": {
        "id": "npOrTyZfCEdk",
        "colab_type": "code",
        "colab": {
          "base_uri": "https://localhost:8080/",
          "height": 276
        },
        "outputId": "f244d0fb-8e43-4350-b57d-606c35b93a4a"
      },
      "source": [
        "plt.scatter(df['Price'],df['Size'])\n",
        "plt.show()"
      ],
      "execution_count": 26,
      "outputs": [
        {
          "output_type": "display_data",
          "data": {
            "image/png": "[encoded data removed]",
            "text/plain": [
              "<Figure size 432x288 with 1 Axes>"
            ]
          },
          "metadata": {
            "tags": []
          }
        }
      ]
    },
    {
      "cell_type": "markdown",
      "metadata": {
        "id": "O5PLG-uORANB",
        "colab_type": "text"
      },
      "source": [
        "2nd question:"
      ]
    },
    {
      "cell_type": "code",
      "metadata": {
        "id": "0xl8PkocEpK2",
        "colab_type": "code",
        "colab": {
          "base_uri": "https://localhost:8080/",
          "height": 119
        },
        "outputId": "6d135ed7-433c-47ab-82c9-aeec4630b082"
      },
      "source": [
        "print(df.iloc[0:3])"
      ],
      "execution_count": 47,
      "outputs": [
        {
          "output_type": "stream",
          "text": [
            "                                                 URL  ...  Current Version Release Date\n",
            "0   https://apps.apple.com/us/app/sudoku/id284921427  ...                    30/05/2017\n",
            "1  https://apps.apple.com/us/app/reversi/id284926400  ...                    17/05/2018\n",
            "2  https://apps.apple.com/us/app/morocco/id284946595  ...                     5/09/2017\n",
            "\n",
            "[3 rows x 18 columns]\n"
          ],
          "name": "stdout"
        }
      ]
    },
    {
      "cell_type": "code",
      "metadata": {
        "id": "kY8Y8J8pC92o",
        "colab_type": "code",
        "colab": {
          "base_uri": "https://localhost:8080/",
          "height": 340
        },
        "outputId": "f62d0aba-b166-472a-80b5-d942ab45a2cd"
      },
      "source": [
        "print(df.loc[2])"
      ],
      "execution_count": 48,
      "outputs": [
        {
          "output_type": "stream",
          "text": [
            "URL                             https://apps.apple.com/us/app/morocco/id284946595\n",
            "ID                                                                      284946595\n",
            "Name                                                                      Morocco\n",
            "Subtitle                                                                      NaN\n",
            "Icon URL                        https://is5-ssl.mzstatic.com/image/thumb/Purpl...\n",
            "Average User Rating                                                             3\n",
            "User Rating Count                                                            8376\n",
            "Price                                                                           0\n",
            "In-app Purchases                                                              NaN\n",
            "Description                     Play the classic strategy game Othello (also k...\n",
            "Developer                                                             Bayou Games\n",
            "Age Rating                                                                     4+\n",
            "Languages                                                                      EN\n",
            "Size                                                                       674816\n",
            "Primary Genre                                                               Games\n",
            "Genres                                                     Games, Board, Strategy\n",
            "Original Release Date                                                  11/07/2008\n",
            "Current Version Release Date                                            5/09/2017\n",
            "Name: 2, dtype: object\n"
          ],
          "name": "stdout"
        }
      ]
    },
    {
      "cell_type": "markdown",
      "metadata": {
        "id": "8Ef2Mb78Q6FA",
        "colab_type": "text"
      },
      "source": [
        "3rd question:"
      ]
    },
    {
      "cell_type": "code",
      "metadata": {
        "id": "PLxErm_SGpjq",
        "colab_type": "code",
        "colab": {
          "base_uri": "https://localhost:8080/",
          "height": 289
        },
        "outputId": "2fbdc15b-008a-48a1-9539-3d4f7e1faa40"
      },
      "source": [
        "u=df.loc[ :,['Price']]\n",
        "print(u)\n",
        "u.mean()"
      ],
      "execution_count": 52,
      "outputs": [
        {
          "output_type": "stream",
          "text": [
            "       Price\n",
            "0       2.99\n",
            "1       1.99\n",
            "2       0.00\n",
            "3       0.00\n",
            "4       2.99\n",
            "...      ...\n",
            "17002   0.00\n",
            "17003   0.00\n",
            "17004   0.00\n",
            "17005   0.00\n",
            "17006   0.00\n",
            "\n",
            "[17007 rows x 1 columns]\n"
          ],
          "name": "stdout"
        },
        {
          "output_type": "execute_result",
          "data": {
            "text/plain": [
              "Price    0.813419\n",
              "dtype: float64"
            ]
          },
          "metadata": {
            "tags": []
          },
          "execution_count": 52
        }
      ]
    },
    {
      "cell_type": "code",
      "metadata": {
        "id": "s-JiLdJ-IWjh",
        "colab_type": "code",
        "colab": {
          "base_uri": "https://localhost:8080/",
          "height": 51
        },
        "outputId": "59e47ad8-3ffb-4da0-b847-eb752a7e8c89"
      },
      "source": [
        "u.median()"
      ],
      "execution_count": 53,
      "outputs": [
        {
          "output_type": "execute_result",
          "data": {
            "text/plain": [
              "Price    0.0\n",
              "dtype: float64"
            ]
          },
          "metadata": {
            "tags": []
          },
          "execution_count": 53
        }
      ]
    },
    {
      "cell_type": "code",
      "metadata": {
        "id": "ZI6skwP-Ivhg",
        "colab_type": "code",
        "colab": {
          "base_uri": "https://localhost:8080/",
          "height": 289
        },
        "outputId": "89808e5c-376e-4403-872c-af18e77ef08b"
      },
      "source": [
        "k=df.loc[ :,['Average User Rating']]\n",
        "print(k)\n",
        "k.mean()"
      ],
      "execution_count": 55,
      "outputs": [
        {
          "output_type": "stream",
          "text": [
            "       Average User Rating\n",
            "0                      4.0\n",
            "1                      3.5\n",
            "2                      3.0\n",
            "3                      3.5\n",
            "4                      3.5\n",
            "...                    ...\n",
            "17002                  NaN\n",
            "17003                  NaN\n",
            "17004                  NaN\n",
            "17005                  NaN\n",
            "17006                  NaN\n",
            "\n",
            "[17007 rows x 1 columns]\n"
          ],
          "name": "stdout"
        },
        {
          "output_type": "execute_result",
          "data": {
            "text/plain": [
              "Average User Rating    4.060905\n",
              "dtype: float64"
            ]
          },
          "metadata": {
            "tags": []
          },
          "execution_count": 55
        }
      ]
    },
    {
      "cell_type": "code",
      "metadata": {
        "id": "Jl9V-iNVJQIy",
        "colab_type": "code",
        "colab": {
          "base_uri": "https://localhost:8080/",
          "height": 51
        },
        "outputId": "2512d960-ae84-439b-e36d-8d3511884f3c"
      },
      "source": [
        "k.median()"
      ],
      "execution_count": 56,
      "outputs": [
        {
          "output_type": "execute_result",
          "data": {
            "text/plain": [
              "Average User Rating    4.5\n",
              "dtype: float64"
            ]
          },
          "metadata": {
            "tags": []
          },
          "execution_count": 56
        }
      ]
    },
    {
      "cell_type": "code",
      "metadata": {
        "id": "tewCbTY5JYtj",
        "colab_type": "code",
        "colab": {
          "base_uri": "https://localhost:8080/",
          "height": 51
        },
        "outputId": "bc988ac1-a25e-4a16-b4cf-3ca83752e0e2"
      },
      "source": [
        "u.var(ddof=0)"
      ],
      "execution_count": 57,
      "outputs": [
        {
          "output_type": "execute_result",
          "data": {
            "text/plain": [
              "Price    61.395079\n",
              "dtype: float64"
            ]
          },
          "metadata": {
            "tags": []
          },
          "execution_count": 57
        }
      ]
    },
    {
      "cell_type": "code",
      "metadata": {
        "id": "0JvHRcuCJqrL",
        "colab_type": "code",
        "colab": {
          "base_uri": "https://localhost:8080/",
          "height": 51
        },
        "outputId": "88c622d5-bc23-4669-ecac-67047656c1ce"
      },
      "source": [
        "k.var(ddof=0)"
      ],
      "execution_count": 58,
      "outputs": [
        {
          "output_type": "execute_result",
          "data": {
            "text/plain": [
              "Average User Rating    0.564569\n",
              "dtype: float64"
            ]
          },
          "metadata": {
            "tags": []
          },
          "execution_count": 58
        }
      ]
    },
    {
      "cell_type": "code",
      "metadata": {
        "id": "jYLdH6YvJwki",
        "colab_type": "code",
        "colab": {
          "base_uri": "https://localhost:8080/",
          "height": 51
        },
        "outputId": "dfaf3ae7-9a32-47cc-bfd4-e921e792b623"
      },
      "source": [
        "u.var(ddof=1)"
      ],
      "execution_count": 59,
      "outputs": [
        {
          "output_type": "execute_result",
          "data": {
            "text/plain": [
              "Price    61.398695\n",
              "dtype: float64"
            ]
          },
          "metadata": {
            "tags": []
          },
          "execution_count": 59
        }
      ]
    },
    {
      "cell_type": "code",
      "metadata": {
        "id": "B8OOFrieJ2Ct",
        "colab_type": "code",
        "colab": {
          "base_uri": "https://localhost:8080/",
          "height": 51
        },
        "outputId": "4b3cf8a1-16e1-48fa-c82c-4cdc696fe4f9"
      },
      "source": [
        "k.var(ddof=1)"
      ],
      "execution_count": 60,
      "outputs": [
        {
          "output_type": "execute_result",
          "data": {
            "text/plain": [
              "Average User Rating    0.564643\n",
              "dtype: float64"
            ]
          },
          "metadata": {
            "tags": []
          },
          "execution_count": 60
        }
      ]
    },
    {
      "cell_type": "markdown",
      "metadata": {
        "id": "HCijSEahK3dm",
        "colab_type": "text"
      },
      "source": [
        "6th question: we are having a empty coloumns named Subtitle and In app purchases .so by using drop method we are deleting these both coloumns"
      ]
    },
    {
      "cell_type": "code",
      "metadata": {
        "id": "JGVhEY5WL0WR",
        "colab_type": "code",
        "colab": {
          "base_uri": "https://localhost:8080/",
          "height": 493
        },
        "outputId": "9264cbb0-4cb3-4f62-8ed7-0b0754e563f1"
      },
      "source": [
        "print (df.drop('Subtitle',1))\n",
        "print(df.drop('In-app Purchases',1))\n"
      ],
      "execution_count": 64,
      "outputs": [
        {
          "output_type": "stream",
          "text": [
            "                                                     URL  ...  Current Version Release Date\n",
            "0       https://apps.apple.com/us/app/sudoku/id284921427  ...                    30/05/2017\n",
            "1      https://apps.apple.com/us/app/reversi/id284926400  ...                    17/05/2018\n",
            "2      https://apps.apple.com/us/app/morocco/id284946595  ...                     5/09/2017\n",
            "3      https://apps.apple.com/us/app/sudoku-free/id28...  ...                    30/05/2017\n",
            "4      https://apps.apple.com/us/app/senet-deluxe/id2...  ...                    22/07/2018\n",
            "...                                                  ...  ...                           ...\n",
            "17002  https://apps.apple.com/us/app/stack-puzzle-ris...  ...                    30/07/2019\n",
            "17003  https://apps.apple.com/us/app/eachother/id1474...  ...                     1/08/2019\n",
            "17004  https://apps.apple.com/us/app/rabbit-vs-tortoi...  ...                     3/08/2019\n",
            "17005  https://apps.apple.com/us/app/fatall/id1474963671  ...                     1/08/2019\n",
            "17006  https://apps.apple.com/us/app/the-three-kingdo...  ...                     2/08/2019\n",
            "\n",
            "[17007 rows x 17 columns]\n",
            "                                                     URL  ...  Current Version Release Date\n",
            "0       https://apps.apple.com/us/app/sudoku/id284921427  ...                    30/05/2017\n",
            "1      https://apps.apple.com/us/app/reversi/id284926400  ...                    17/05/2018\n",
            "2      https://apps.apple.com/us/app/morocco/id284946595  ...                     5/09/2017\n",
            "3      https://apps.apple.com/us/app/sudoku-free/id28...  ...                    30/05/2017\n",
            "4      https://apps.apple.com/us/app/senet-deluxe/id2...  ...                    22/07/2018\n",
            "...                                                  ...  ...                           ...\n",
            "17002  https://apps.apple.com/us/app/stack-puzzle-ris...  ...                    30/07/2019\n",
            "17003  https://apps.apple.com/us/app/eachother/id1474...  ...                     1/08/2019\n",
            "17004  https://apps.apple.com/us/app/rabbit-vs-tortoi...  ...                     3/08/2019\n",
            "17005  https://apps.apple.com/us/app/fatall/id1474963671  ...                     1/08/2019\n",
            "17006  https://apps.apple.com/us/app/the-three-kingdo...  ...                     2/08/2019\n",
            "\n",
            "[17007 rows x 17 columns]\n"
          ],
          "name": "stdout"
        }
      ]
    },
    {
      "cell_type": "code",
      "metadata": {
        "id": "fkfppJBHNr5Q",
        "colab_type": "code",
        "colab": {
          "base_uri": "https://localhost:8080/",
          "height": 296
        },
        "outputId": "d997a328-1998-4082-e2b1-63487a79433d"
      },
      "source": [
        "import seaborn as sns\n",
        "sns.distplot(df['Price'])"
      ],
      "execution_count": 66,
      "outputs": [
        {
          "output_type": "execute_result",
          "data": {
            "text/plain": [
              "<matplotlib.axes._subplots.AxesSubplot at 0x7f5efe612080>"
            ]
          },
          "metadata": {
            "tags": []
          },
          "execution_count": 66
        },
        {
          "output_type": "display_data",
          "data": {
            "image/png": "[encoded data removed]",
            "text/plain": [
              "<Figure size 432x288 with 1 Axes>"
            ]
          },
          "metadata": {
            "tags": []
          }
        }
      ]
    },
    {
      "cell_type": "code",
      "metadata": {
        "id": "8K5VRS91OSft",
        "colab_type": "code",
        "colab": {
          "base_uri": "https://localhost:8080/",
          "height": 307
        },
        "outputId": "31a704e3-e1a2-4d57-ba72-b81ef63780e6"
      },
      "source": [
        "sns.distplot(df['Size'])"
      ],
      "execution_count": 73,
      "outputs": [
        {
          "output_type": "execute_result",
          "data": {
            "text/plain": [
              "<matplotlib.axes._subplots.AxesSubplot at 0x7f5efe0d43c8>"
            ]
          },
          "metadata": {
            "tags": []
          },
          "execution_count": 73
        },
        {
          "output_type": "display_data",
          "data": {
            "image/png": "[encoded data removed]",
            "text/plain": [
              "<Figure size 432x288 with 1 Axes>"
            ]
          },
          "metadata": {
            "tags": []
          }
        }
      ]
    },
    {
      "cell_type": "markdown",
      "metadata": {
        "id": "3_RC3KwWQli-",
        "colab_type": "text"
      },
      "source": [
        "5th question"
      ]
    },
    {
      "cell_type": "code",
      "metadata": {
        "id": "AOtv3RDDOnlT",
        "colab_type": "code",
        "colab": {
          "base_uri": "https://localhost:8080/",
          "height": 318
        },
        "outputId": "51eb0b7b-d5d2-48e7-b3e0-e12c00a8d610"
      },
      "source": [
        "df.boxplot(by=['Price'],column=['Size'],grid=True)"
      ],
      "execution_count": 74,
      "outputs": [
        {
          "output_type": "execute_result",
          "data": {
            "text/plain": [
              "<matplotlib.axes._subplots.AxesSubplot at 0x7f5efe03cdd8>"
            ]
          },
          "metadata": {
            "tags": []
          },
          "execution_count": 74
        },
        {
          "output_type": "display_data",
          "data": {
            "image/png": "[encoded data removed]",
            "text/plain": [
              "<Figure size 432x288 with 1 Axes>"
            ]
          },
          "metadata": {
            "tags": []
          }
        }
      ]
    },
    {
      "cell_type": "markdown",
      "metadata": {
        "id": "ZjIBW4SjQGV8",
        "colab_type": "text"
      },
      "source": [
        "By observing above box plot we can clearly state that it has outliers"
      ]
    }
  ]
}